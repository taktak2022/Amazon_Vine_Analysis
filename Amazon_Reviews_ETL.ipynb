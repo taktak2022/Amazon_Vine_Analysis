{
  "nbformat": 4,
  "nbformat_minor": 0,
  "metadata": {
    "colab": {
      "name": "Amazon_Reviews_ETL.ipynb",
      "provenance": [],
      "collapsed_sections": []
    },
    "kernelspec": {
      "name": "python3",
      "display_name": "Python 3"
    },
    "nteract": {
      "version": "0.12.3"
    },
    "language_info": {
      "name": "python"
    }
  },
  "cells": [
    {
      "cell_type": "code",
      "metadata": {
        "id": "V58rxea0HqSa",
        "colab": {
          "base_uri": "https://localhost:8080/"
        },
        "outputId": "7f6cde87-53c2-407b-c4fc-83cb75e8acd2"
      },
      "source": [
        "import os\n",
        "# Find the latest version of spark 3.0 from http://www.apache.org/dist/spark/ and enter as the spark version\n",
        "# For example:\n",
        "# spark_version = 'spark-3.0.3'\n",
        "spark_version = 'spark-3.0.3'\n",
        "os.environ['SPARK_VERSION']=spark_version\n",
        "\n",
        "# Install Spark and Java\n",
        "!apt-get update\n",
        "!apt-get install openjdk-11-jdk-headless -qq > /dev/null\n",
        "!wget -q http://www.apache.org/dist/spark/$SPARK_VERSION/$SPARK_VERSION-bin-hadoop2.7.tgz\n",
        "!tar xf $SPARK_VERSION-bin-hadoop2.7.tgz\n",
        "!pip install -q findspark\n",
        "\n",
        "# Set Environment Variables\n",
        "import os\n",
        "os.environ[\"JAVA_HOME\"] = \"/usr/lib/jvm/java-11-openjdk-amd64\"\n",
        "os.environ[\"SPARK_HOME\"] = f\"/content/{spark_version}-bin-hadoop2.7\"\n",
        "\n",
        "# Start a SparkSession\n",
        "import findspark\n",
        "findspark.init()"
      ],
      "execution_count": 1,
      "outputs": [
        {
          "output_type": "stream",
          "name": "stdout",
          "text": [
            "\r0% [Working]\r            \rHit:1 http://ppa.launchpad.net/c2d4u.team/c2d4u4.0+/ubuntu bionic InRelease\n",
            "\r0% [Connecting to archive.ubuntu.com (91.189.91.38)] [Connecting to security.ub\r                                                                               \rGet:2 https://cloud.r-project.org/bin/linux/ubuntu bionic-cran40/ InRelease [3,626 B]\n",
            "\r                                                                               \rHit:3 http://ppa.launchpad.net/cran/libgit2/ubuntu bionic InRelease\n",
            "\r0% [Connecting to archive.ubuntu.com (91.189.91.38)] [Connecting to security.ub\r0% [1 InRelease gpgv 15.9 kB] [Connecting to archive.ubuntu.com (91.189.91.38)]\r                                                                               \rHit:4 http://ppa.launchpad.net/deadsnakes/ppa/ubuntu bionic InRelease\n",
            "\r0% [1 InRelease gpgv 15.9 kB] [Connecting to archive.ubuntu.com (91.189.91.38)]\r                                                                               \rHit:5 https://developer.download.nvidia.com/compute/cuda/repos/ubuntu1804/x86_64  InRelease\n",
            "\r0% [1 InRelease gpgv 15.9 kB] [Connecting to archive.ubuntu.com (91.189.91.38)]\r                                                                               \rHit:6 http://ppa.launchpad.net/graphics-drivers/ppa/ubuntu bionic InRelease\n",
            "\r0% [1 InRelease gpgv 15.9 kB] [Waiting for headers] [Waiting for headers] [Wait\r                                                                               \rHit:7 http://archive.ubuntu.com/ubuntu bionic InRelease\n",
            "Get:8 http://security.ubuntu.com/ubuntu bionic-security InRelease [88.7 kB]\n",
            "Get:9 http://archive.ubuntu.com/ubuntu bionic-updates InRelease [88.7 kB]\n",
            "Ign:10 https://developer.download.nvidia.com/compute/machine-learning/repos/ubuntu1804/x86_64  InRelease\n",
            "Hit:11 https://developer.download.nvidia.com/compute/machine-learning/repos/ubuntu1804/x86_64  Release\n",
            "Get:12 http://archive.ubuntu.com/ubuntu bionic-backports InRelease [74.6 kB]\n",
            "Get:14 http://security.ubuntu.com/ubuntu bionic-security/main amd64 Packages [2,867 kB]\n",
            "Get:15 http://archive.ubuntu.com/ubuntu bionic-updates/universe amd64 Packages [2,297 kB]\n",
            "Get:16 http://archive.ubuntu.com/ubuntu bionic-updates/main amd64 Packages [3,302 kB]\n",
            "Get:17 http://archive.ubuntu.com/ubuntu bionic-updates/restricted amd64 Packages [1,075 kB]\n",
            "Fetched 9,797 kB in 5s (1,787 kB/s)\n",
            "Reading package lists... Done\n"
          ]
        }
      ]
    },
    {
      "cell_type": "code",
      "metadata": {
        "id": "_xKwTpATHqSe",
        "colab": {
          "base_uri": "https://localhost:8080/"
        },
        "outputId": "2c1b5234-eaf4-4d85-a2f7-75a7477a8fcf"
      },
      "source": [
        "# Download the Postgres driver that will allow Spark to interact with Postgres.\n",
        "!wget https://jdbc.postgresql.org/download/postgresql-42.2.16.jar"
      ],
      "execution_count": 2,
      "outputs": [
        {
          "output_type": "stream",
          "name": "stdout",
          "text": [
            "--2022-07-03 07:23:10--  https://jdbc.postgresql.org/download/postgresql-42.2.16.jar\n",
            "Resolving jdbc.postgresql.org (jdbc.postgresql.org)... 72.32.157.228, 2001:4800:3e1:1::228\n",
            "Connecting to jdbc.postgresql.org (jdbc.postgresql.org)|72.32.157.228|:443... connected.\n",
            "HTTP request sent, awaiting response... 200 OK\n",
            "Length: 1002883 (979K) [application/java-archive]\n",
            "Saving to: ‘postgresql-42.2.16.jar’\n",
            "\n",
            "postgresql-42.2.16. 100%[===================>] 979.38K  1.68MB/s    in 0.6s    \n",
            "\n",
            "2022-07-03 07:23:12 (1.68 MB/s) - ‘postgresql-42.2.16.jar’ saved [1002883/1002883]\n",
            "\n"
          ]
        }
      ]
    },
    {
      "cell_type": "code",
      "metadata": {
        "id": "MMqDAjVS0KN9"
      },
      "source": [
        "from pyspark.sql import SparkSession\n",
        "spark = SparkSession.builder.appName(\"M16-Amazon-Challenge\").config(\"spark.driver.extraClassPath\",\"/content/postgresql-42.2.16.jar\").getOrCreate()\n"
      ],
      "execution_count": 4,
      "outputs": []
    },
    {
      "cell_type": "markdown",
      "metadata": {
        "id": "cyBsySGuY-9V"
      },
      "source": [
        "### Load Amazon Data into Spark DataFrame"
      ]
    },
    {
      "cell_type": "code",
      "metadata": {
        "id": "CtCmBhQJY-9Z",
        "colab": {
          "base_uri": "https://localhost:8080/"
        },
        "outputId": "347d6950-848f-44f4-c8ec-82d9ac28773c"
      },
      "source": [
        "# READ IN THE REVIEWS DATASET AS A DATAFRANE\n",
        "from pyspark import SparkFiles\n",
        "url = \"https://s3.amazonaws.com/amazon-reviews-pds/tsv/amazon_reviews_us_Jewelry_v1_00.tsv.gz\"\n",
        "spark.sparkContext.addFile(url)\n",
        "df = spark.read.option(\"encoding\", \"UTF-8\").csv(SparkFiles.get(\"\"), sep=\"\\t\", header=True, inferSchema=True)\n",
        "df.show()"
      ],
      "execution_count": 5,
      "outputs": [
        {
          "output_type": "stream",
          "name": "stdout",
          "text": [
            "+-----------+-----------+--------------+----------+--------------+--------------------+----------------+-----------+-------------+-----------+----+-----------------+--------------------+--------------------+-----------+\n",
            "|marketplace|customer_id|     review_id|product_id|product_parent|       product_title|product_category|star_rating|helpful_votes|total_votes|vine|verified_purchase|     review_headline|         review_body|review_date|\n",
            "+-----------+-----------+--------------+----------+--------------+--------------------+----------------+-----------+-------------+-----------+----+-----------------+--------------------+--------------------+-----------+\n",
            "|         US|   50423057|R135Q3VZ4DQN5N|B00JWXFDMG|     657335467|Everbling Purple ...|         Jewelry|          5|            0|          0|   N|                Y|           Beauties!|so beautiful even...| 2015-08-31|\n",
            "|         US|   11262325|R2N0QQ6R4T7YRY|B00W5T1H9W|      26030170|925 Sterling Silv...|         Jewelry|          5|            0|          0|   N|                N|      Great product.|Great product.. I...| 2015-08-31|\n",
            "|         US|   27541121|R3N5JE5Y4T6W5M|B00M2L6KFY|     697845240|Sterling Silver C...|         Jewelry|          5|            0|          0|   N|                Y|Exactly as pictur...|Exactly as pictur...| 2015-08-31|\n",
            "|         US|    5350721|R2I150CX5IVY9Q|B0006SW2WU|     569859289|Surgical Stainles...|         Jewelry|          5|            0|          0|   N|                Y|          Five Stars|Love it. Fits gre...| 2015-08-31|\n",
            "|         US|   24484424|R1RM9ICOOA9MQ3|B009YPDW70|     332947422|Sterling Silver F...|         Jewelry|          5|            0|          0|   N|                Y|... a Mother's Da...|Got this as a Mot...| 2015-08-31|\n",
            "|         US|     457767|R2J2KMDL10UMSH|B00QGA8XZM|     424804582|CHOOSE YOUR COLOR...|         Jewelry|          5|            0|          0|   N|                Y|          Five Stars|I Love It Make Me...| 2015-08-31|\n",
            "|         US|   31009358|R3R9ZUFA4TB4FQ|B00L0N0E8E|     589441783|Metal Factory 925...|         Jewelry|          5|            0|          0|   N|                Y|          Five Stars|True to size, unique| 2015-08-31|\n",
            "|         US|    7034628|R3UQ8VAQN7R6WL|B00DMWQKWA|     517428445|niceEshop(TM)Clas...|         Jewelry|          5|            0|          0|   N|                Y|          Five Stars|This necklace is ...| 2015-08-31|\n",
            "|         US|   34608636|R1FXZ69C01JNQM|B00THLHAGA|     320313750|Genuine Natural B...|         Jewelry|          5|            0|          0|   N|                Y|          Five Stars|        just perfect| 2015-08-31|\n",
            "|         US|   44972687| RY36LB4OW0FFS|B00UXSEOHY|     589365488|MBOX Expandable A...|         Jewelry|          5|            0|          0|   N|                Y|          Five Stars|           Love it !| 2015-08-31|\n",
            "|         US|   16684508| R6PKS54PC6ZY2|B00XGRYGVS|     217045013|Set of 3 Nose Rin...|         Jewelry|          1|            4|          4|   N|                Y|I had high hopes ...|They didn't even ...| 2015-08-31|\n",
            "|         US|   23493178|R1LYSAH0IECVWB|B00AJ2VU8A|     972853757|3-row White A Gra...|         Jewelry|          5|            0|          0|   N|                Y|This is a real ni...|This is a real ni...| 2015-08-31|\n",
            "|         US|     108294|R1UN0IZI3XQ3E2|B00LE5Y100|     979375701|KONOV Mens Stainl...|         Jewelry|          5|            2|          3|   N|                Y|             AMAZING|This is a very co...| 2015-08-31|\n",
            "|         US|   25810742| RIKDXD8QGL99S|B013E0AOH6|     619592796|TEMEGO Jewelry Me...|         Jewelry|          5|            1|          1|   N|                Y|          Five Stars|Great quality for...| 2015-08-31|\n",
            "|         US|   12037665| RUZCQTXZVGUFH|B00XAWUP96|     783863439|Royal Blue/White ...|         Jewelry|          4|            1|          1|   N|                Y|A Little Smaller ...|I like the bracel...| 2015-08-31|\n",
            "|         US|   51793466|R35CD4IHO3RP9H|B00WD82F1O|     655270378|10-11mm Baroque F...|         Jewelry|          5|            1|          1|   N|                Y|Pretty and Versatile|This is pretty an...| 2015-08-31|\n",
            "|         US|     127508|R13YD66XC9221U|B00JP4XCSO|     592155747|Sankuwen® Fashion...|         Jewelry|          1|            0|          0|   N|                N|Don't get this li...|Don't get this li...| 2015-08-31|\n",
            "|         US|   38430946| RHWG4JRVDSEYY|B00PZSM384|     622179716|zjskin6688 store ...|         Jewelry|          3|            1|          1|   N|                Y|         Three Stars|Not what I expect...| 2015-08-31|\n",
            "|         US|   33684654|R3SPIKMJ5IWHX8|B00VLMW18K|      36759824|Scheppend Polymer...|         Jewelry|          4|            0|          0|   N|                Y|          Four Stars|Bought these for ...| 2015-08-31|\n",
            "|         US|    5068631| RS19ACU7KWWNE|B00U5LDBB4|     575109200|Horizontal Sidewa...|         Jewelry|          5|            1|          1|   N|                Y|          Five Stars|Pretty, and very ...| 2015-08-31|\n",
            "+-----------+-----------+--------------+----------+--------------+--------------------+----------------+-----------+-------------+-----------+----+-----------------+--------------------+--------------------+-----------+\n",
            "only showing top 20 rows\n",
            "\n"
          ]
        }
      ]
    },
    {
      "cell_type": "markdown",
      "metadata": {
        "id": "2yUSe55VY-9t"
      },
      "source": [
        "### Create DataFrames to match tables"
      ]
    },
    {
      "cell_type": "code",
      "metadata": {
        "id": "C8REmY1aY-9u",
        "colab": {
          "base_uri": "https://localhost:8080/"
        },
        "outputId": "5c623ce1-da14-4cc1-af14-b3eb373a6cfc"
      },
      "source": [
        "from pyspark.sql.functions import to_date\n",
        "df.show(10)\n"
      ],
      "execution_count": 9,
      "outputs": [
        {
          "output_type": "stream",
          "name": "stdout",
          "text": [
            "+-----------+-----------+--------------+----------+--------------+--------------------+----------------+-----------+-------------+-----------+----+-----------------+--------------------+--------------------+-----------+\n",
            "|marketplace|customer_id|     review_id|product_id|product_parent|       product_title|product_category|star_rating|helpful_votes|total_votes|vine|verified_purchase|     review_headline|         review_body|review_date|\n",
            "+-----------+-----------+--------------+----------+--------------+--------------------+----------------+-----------+-------------+-----------+----+-----------------+--------------------+--------------------+-----------+\n",
            "|         US|   50423057|R135Q3VZ4DQN5N|B00JWXFDMG|     657335467|Everbling Purple ...|         Jewelry|          5|            0|          0|   N|                Y|           Beauties!|so beautiful even...| 2015-08-31|\n",
            "|         US|   11262325|R2N0QQ6R4T7YRY|B00W5T1H9W|      26030170|925 Sterling Silv...|         Jewelry|          5|            0|          0|   N|                N|      Great product.|Great product.. I...| 2015-08-31|\n",
            "|         US|   27541121|R3N5JE5Y4T6W5M|B00M2L6KFY|     697845240|Sterling Silver C...|         Jewelry|          5|            0|          0|   N|                Y|Exactly as pictur...|Exactly as pictur...| 2015-08-31|\n",
            "|         US|    5350721|R2I150CX5IVY9Q|B0006SW2WU|     569859289|Surgical Stainles...|         Jewelry|          5|            0|          0|   N|                Y|          Five Stars|Love it. Fits gre...| 2015-08-31|\n",
            "|         US|   24484424|R1RM9ICOOA9MQ3|B009YPDW70|     332947422|Sterling Silver F...|         Jewelry|          5|            0|          0|   N|                Y|... a Mother's Da...|Got this as a Mot...| 2015-08-31|\n",
            "|         US|     457767|R2J2KMDL10UMSH|B00QGA8XZM|     424804582|CHOOSE YOUR COLOR...|         Jewelry|          5|            0|          0|   N|                Y|          Five Stars|I Love It Make Me...| 2015-08-31|\n",
            "|         US|   31009358|R3R9ZUFA4TB4FQ|B00L0N0E8E|     589441783|Metal Factory 925...|         Jewelry|          5|            0|          0|   N|                Y|          Five Stars|True to size, unique| 2015-08-31|\n",
            "|         US|    7034628|R3UQ8VAQN7R6WL|B00DMWQKWA|     517428445|niceEshop(TM)Clas...|         Jewelry|          5|            0|          0|   N|                Y|          Five Stars|This necklace is ...| 2015-08-31|\n",
            "|         US|   34608636|R1FXZ69C01JNQM|B00THLHAGA|     320313750|Genuine Natural B...|         Jewelry|          5|            0|          0|   N|                Y|          Five Stars|        just perfect| 2015-08-31|\n",
            "|         US|   44972687| RY36LB4OW0FFS|B00UXSEOHY|     589365488|MBOX Expandable A...|         Jewelry|          5|            0|          0|   N|                Y|          Five Stars|           Love it !| 2015-08-31|\n",
            "+-----------+-----------+--------------+----------+--------------+--------------------+----------------+-----------+-------------+-----------+----+-----------------+--------------------+--------------------+-----------+\n",
            "only showing top 10 rows\n",
            "\n"
          ]
        }
      ]
    },
    {
      "cell_type": "code",
      "metadata": {
        "id": "B0TESUDRY-90",
        "colab": {
          "base_uri": "https://localhost:8080/"
        },
        "outputId": "bd6ad769-72aa-474d-a971-b8828d661d4b"
      },
      "source": [
        "# Create the customers_table DataFrame\n",
        "customers_df = df.groupby(\"customer_id\").agg({\"customer_id\":\"count\"}).withColumnRenamed(\"count(customer_id\", \"customer_count\")\n",
        "customers_df.show()\n"
      ],
      "execution_count": 7,
      "outputs": [
        {
          "output_type": "stream",
          "name": "stdout",
          "text": [
            "+-----------+------------------+\n",
            "|customer_id|count(customer_id)|\n",
            "+-----------+------------------+\n",
            "|   45657423|                 1|\n",
            "|   47663761|                 1|\n",
            "|   11931196|                 1|\n",
            "|   44620216|                 1|\n",
            "|    1167081|                 1|\n",
            "|   17682867|                 1|\n",
            "|   10782454|                 1|\n",
            "|   51881951|                 1|\n",
            "|    1537684|                 1|\n",
            "|   17133428|                 5|\n",
            "|     661760|                 1|\n",
            "|    9867391|                 9|\n",
            "|   31268594|                 1|\n",
            "|   48581590|                 1|\n",
            "|   32466409|                 3|\n",
            "|   38490515|                 1|\n",
            "|   41318181|                 4|\n",
            "|   18800155|                 6|\n",
            "|   46306239|                 1|\n",
            "|   28409312|                 1|\n",
            "+-----------+------------------+\n",
            "only showing top 20 rows\n",
            "\n"
          ]
        }
      ]
    },
    {
      "cell_type": "code",
      "metadata": {
        "id": "4FwXA6UvY-96",
        "colab": {
          "base_uri": "https://localhost:8080/"
        },
        "outputId": "6ce490f8-8966-48d7-d5ac-bcba2fdbb627"
      },
      "source": [
        "# Create the products_table DataFrame and drop duplicates. \n",
        "products_df = df.select([\"product_id\", \"product_title\"]).drop_duplicates()\n",
        "products_df.show()\n"
      ],
      "execution_count": 10,
      "outputs": [
        {
          "output_type": "stream",
          "name": "stdout",
          "text": [
            "+----------+--------------------+\n",
            "|product_id|       product_title|\n",
            "+----------+--------------------+\n",
            "|B00LHJMHVS|FAIRY COUPLE Wome...|\n",
            "|B00TPWQ6I4|Chic Alert Medica...|\n",
            "|B00P837QR4|The Original Roll...|\n",
            "|B00L280CN4|10pcs 18\" 18 Inch...|\n",
            "|B00KGU5T4Q|KONOV Mens Stainl...|\n",
            "|B00JHF388K|Sterling Silver w...|\n",
            "|B00FB05CES|CHOOSE YOUR COLOR...|\n",
            "|B00D4KUMQ0|INBLUE Men's Stai...|\n",
            "|B00GTCD2X0|Beautiful Carved ...|\n",
            "|B00QUHZQP6|Authentic Chamili...|\n",
            "|B00NJ317T8|Smitco LLC Silver...|\n",
            "|B00658M8EC|925 Sterling Silv...|\n",
            "|B00L43PV2Y|Hydia Steel Jewel...|\n",
            "|B00U24CSP4|Platinum-Plated S...|\n",
            "|B006OHTHZ2|316L Stainless St...|\n",
            "|B00QW72KDA|PiercingJ Pair 12...|\n",
            "|B006VN35L6|5mm Stainless Ste...|\n",
            "|B00CGID7PY|925 Sterling Silv...|\n",
            "|B00TXHSXWI|Silver Forest Kno...|\n",
            "|B004Z1EQRS|PammyJ Silvertone...|\n",
            "+----------+--------------------+\n",
            "only showing top 20 rows\n",
            "\n"
          ]
        }
      ]
    },
    {
      "cell_type": "code",
      "metadata": {
        "id": "MkqyCuNQY-9-",
        "colab": {
          "base_uri": "https://localhost:8080/"
        },
        "outputId": "666e5064-3b5b-463e-a425-1ff306105488"
      },
      "source": [
        "# Create the review_id_table DataFrame. \n",
        "# Convert the 'review_date' column to a date datatype with to_date(\"review_date\", 'yyyy-MM-dd').alias(\"review_date\")\n",
        "review_id_df = df.select([\"review_id\", \"customer_id\", \"product_id\", \"product_parent\", to_date(\"review_date\", 'yyyy-MM-dd').alias(\"review_date\")])\n",
        "review_id_df.show(10)\n"
      ],
      "execution_count": 11,
      "outputs": [
        {
          "output_type": "stream",
          "name": "stdout",
          "text": [
            "+--------------+-----------+----------+--------------+-----------+\n",
            "|     review_id|customer_id|product_id|product_parent|review_date|\n",
            "+--------------+-----------+----------+--------------+-----------+\n",
            "|R135Q3VZ4DQN5N|   50423057|B00JWXFDMG|     657335467| 2015-08-31|\n",
            "|R2N0QQ6R4T7YRY|   11262325|B00W5T1H9W|      26030170| 2015-08-31|\n",
            "|R3N5JE5Y4T6W5M|   27541121|B00M2L6KFY|     697845240| 2015-08-31|\n",
            "|R2I150CX5IVY9Q|    5350721|B0006SW2WU|     569859289| 2015-08-31|\n",
            "|R1RM9ICOOA9MQ3|   24484424|B009YPDW70|     332947422| 2015-08-31|\n",
            "|R2J2KMDL10UMSH|     457767|B00QGA8XZM|     424804582| 2015-08-31|\n",
            "|R3R9ZUFA4TB4FQ|   31009358|B00L0N0E8E|     589441783| 2015-08-31|\n",
            "|R3UQ8VAQN7R6WL|    7034628|B00DMWQKWA|     517428445| 2015-08-31|\n",
            "|R1FXZ69C01JNQM|   34608636|B00THLHAGA|     320313750| 2015-08-31|\n",
            "| RY36LB4OW0FFS|   44972687|B00UXSEOHY|     589365488| 2015-08-31|\n",
            "+--------------+-----------+----------+--------------+-----------+\n",
            "only showing top 10 rows\n",
            "\n"
          ]
        }
      ]
    },
    {
      "cell_type": "code",
      "metadata": {
        "id": "lzMmkdKmY--D",
        "colab": {
          "base_uri": "https://localhost:8080/"
        },
        "outputId": "5e669b42-aba7-4d76-ab13-ec01a66b7108"
      },
      "source": [
        "# Create the vine_table. DataFrame\n",
        "vine_df = df.select([\"review_id\", \"star_rating\", \"helpful_votes\", \"total_votes\", \"vine\", \"verified_purchase\"])\n",
        "vine_df.show()\n"
      ],
      "execution_count": 12,
      "outputs": [
        {
          "output_type": "stream",
          "name": "stdout",
          "text": [
            "+--------------+-----------+-------------+-----------+----+-----------------+\n",
            "|     review_id|star_rating|helpful_votes|total_votes|vine|verified_purchase|\n",
            "+--------------+-----------+-------------+-----------+----+-----------------+\n",
            "|R135Q3VZ4DQN5N|          5|            0|          0|   N|                Y|\n",
            "|R2N0QQ6R4T7YRY|          5|            0|          0|   N|                N|\n",
            "|R3N5JE5Y4T6W5M|          5|            0|          0|   N|                Y|\n",
            "|R2I150CX5IVY9Q|          5|            0|          0|   N|                Y|\n",
            "|R1RM9ICOOA9MQ3|          5|            0|          0|   N|                Y|\n",
            "|R2J2KMDL10UMSH|          5|            0|          0|   N|                Y|\n",
            "|R3R9ZUFA4TB4FQ|          5|            0|          0|   N|                Y|\n",
            "|R3UQ8VAQN7R6WL|          5|            0|          0|   N|                Y|\n",
            "|R1FXZ69C01JNQM|          5|            0|          0|   N|                Y|\n",
            "| RY36LB4OW0FFS|          5|            0|          0|   N|                Y|\n",
            "| R6PKS54PC6ZY2|          1|            4|          4|   N|                Y|\n",
            "|R1LYSAH0IECVWB|          5|            0|          0|   N|                Y|\n",
            "|R1UN0IZI3XQ3E2|          5|            2|          3|   N|                Y|\n",
            "| RIKDXD8QGL99S|          5|            1|          1|   N|                Y|\n",
            "| RUZCQTXZVGUFH|          4|            1|          1|   N|                Y|\n",
            "|R35CD4IHO3RP9H|          5|            1|          1|   N|                Y|\n",
            "|R13YD66XC9221U|          1|            0|          0|   N|                N|\n",
            "| RHWG4JRVDSEYY|          3|            1|          1|   N|                Y|\n",
            "|R3SPIKMJ5IWHX8|          4|            0|          0|   N|                Y|\n",
            "| RS19ACU7KWWNE|          5|            1|          1|   N|                Y|\n",
            "+--------------+-----------+-------------+-----------+----+-----------------+\n",
            "only showing top 20 rows\n",
            "\n"
          ]
        }
      ]
    },
    {
      "cell_type": "markdown",
      "metadata": {
        "id": "jITZhLkmY--J"
      },
      "source": [
        "### Connect to the AWS RDS instance and write each DataFrame to its table. "
      ]
    },
    {
      "cell_type": "code",
      "metadata": {
        "id": "7jiUvs1aY--L",
        "colab": {
          "base_uri": "https://localhost:8080/"
        },
        "outputId": "3bdfa466-c875-44ee-ebe0-a28b3cfbfc32"
      },
      "source": [
        "# Store environmental variable\n",
        "from getpass import getpass\n",
        "password = getpass('ENTER DATABASE PASSWORD ')\n",
        "\n",
        "# Configure settings for RDS\n",
        "mode = \"append\"\n",
        "jdbc_url = \"jdbc:postgresql://dataviz.cku9xidthncg.us-west-1.rds.amazonaws.com:5432/Mod16_BigData_Challenge\"\n",
        "config = {\"user\":\"postgres\", \n",
        "          \"password\": password, \n",
        "          \"driver\":\"org.postgresql.Driver\"}\n"
      ],
      "execution_count": 13,
      "outputs": [
        {
          "name": "stdout",
          "output_type": "stream",
          "text": [
            "ENTER DATABASE PASSWORD ··········\n"
          ]
        }
      ]
    },
    {
      "cell_type": "code",
      "metadata": {
        "id": "T2zgZ-aKY--Q"
      },
      "source": [
        "# Write review_id_df to table in RDS\n",
        "review_id_df.write.jdbc(url=jdbc_url, table='review_id_table', mode=mode, properties=config)"
      ],
      "execution_count": 14,
      "outputs": []
    },
    {
      "cell_type": "code",
      "metadata": {
        "id": "1m3yzn-LY--U"
      },
      "source": [
        "# Write products_df to table in RDS\n",
        "# about 3 min\n",
        "products_df.write.jdbc(url=jdbc_url, table='products_table', mode=mode, properties=config)"
      ],
      "execution_count": 15,
      "outputs": []
    },
    {
      "cell_type": "code",
      "metadata": {
        "id": "KbXri15fY--Z"
      },
      "source": [
        "# Write customers_df to table in RDS\n",
        "# 5 min 14 s\n",
        "customers_df.write.jdbc(url=jdbc_url, table='customers_table', mode=mode, properties=config)"
      ],
      "execution_count": 16,
      "outputs": []
    },
    {
      "cell_type": "code",
      "metadata": {
        "id": "XdQknSHLY--e"
      },
      "source": [
        "# Write vine_df to table in RDS\n",
        "# 11 minutes\n",
        "vine_df.write.jdbc(url=jdbc_url, table='vine_table', mode=mode, properties=config)"
      ],
      "execution_count": 17,
      "outputs": []
    },
    {
      "cell_type": "code",
      "metadata": {
        "id": "Exuo6ebUsCqW"
      },
      "source": [
        ""
      ],
      "execution_count": null,
      "outputs": []
    }
  ]
}